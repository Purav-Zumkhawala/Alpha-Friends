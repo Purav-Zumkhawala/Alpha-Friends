{
 "cells": [
  {
   "cell_type": "code",
   "execution_count": 6,
   "metadata": {},
   "outputs": [],
   "source": [
    "import json\n",
    "import os\n",
    "from pathlib import Path\n",
    "\n",
    "def extractData(filepath):\n",
    "    with open (filepath) as f:\n",
    "        data = json.loads(f.read())\n",
    "    required_data = {}\n",
    "    episodes_data = data[\"episodes\"]\n",
    "    for episode in episodes_data:\n",
    "        scenes_data = episode[\"scenes\"]\n",
    "        for scene in scenes_data:\n",
    "            dialogue_list = []\n",
    "            count_dict = {\"Total\":0,\"Ross Geller\":0, \"Rachel Green\":0, \"Monica Geller\":0, \"Chandler Bing\":0, \"Joey Tribbiani\":0,\"Phoebe Buffay\":0}\n",
    "            for utterance in scene[\"utterances\"]:\n",
    "                if len(utterance[\"speakers\"]) > 0:\n",
    "                    temp_list = [\",\".join(utterance[\"speakers\"]),utterance[\"transcript\"]]\n",
    "                    dialogue_list.append(temp_list)\n",
    "                    if temp_list[0] in list(count_dict.keys()):\n",
    "                        count_dict[temp_list[0]]+=1\n",
    "                        count_dict[\"Total\"]+=1\n",
    "            required_data[scene[\"scene_id\"]] = {\"dialogues\":dialogue_list,\"count\":count_dict}\n",
    "    return required_data\n",
    "\n",
    "def getSequenceWiseUtterences(filepath):\n",
    "    with open (filepath) as f:\n",
    "        data = json.loads(f.read())\n",
    "    dialogue_list = []\n",
    "    episodes_data = data[\"episodes\"]\n",
    "    for episode in episodes_data:\n",
    "        scenes_data = episode[\"scenes\"]\n",
    "        for scene in scenes_data:\n",
    "            for utterance in scene[\"utterances\"]:\n",
    "                if len(utterance[\"speakers\"]) > 0 and len(utterance[\"transcript\"].split(\" \")) > 5:\n",
    "                    dialogue_list.append(utterance[\"transcript\"])\n",
    "    \n",
    "    return dialogue_list\n",
    "                    \n",
    "    \n",
    "        \n",
    "\n",
    "filepath = \"json/Seasons/\"\n",
    "filenames = os.listdir(\"json/Seasons/\")\n",
    "storePath = \"Data/\"\n",
    "\n",
    "for i in filenames:    \n",
    "    data_dict = extractData(os.path.join(filepath,i))\n",
    "    json_save_path = Path(os.path.join(storePath,\"Dataset\",i.split(\".\")[0][8:]+\".json\"))\n",
    "    json_save_path.write_text(json.dumps(data_dict))\n",
    "\n",
    "    dialogue_list = getSequenceWiseUtterences(os.path.join(filepath,i))\n",
    "    f = open(os.path.join(storePath,\"Sequence_Utterences\",i.split(\".\")[0][8:]+\".txt\"), \"w\")\n",
    "    for dialog in dialogue_list:\n",
    "        f.write(dialog+\"\\n\")\n",
    "    f.close()\n"
   ]
  },
  {
   "cell_type": "code",
   "execution_count": 31,
   "metadata": {},
   "outputs": [
    {
     "name": "stdout",
     "output_type": "stream",
     "text": [
      "{'dialogues': [['Monica Geller', \"There's nothing to tell! He's just some guy I work with!\"], ['Joey Tribbiani', \"C'mon, you're going out with the guy! There's gotta be something wrong with him!\"], ['Chandler Bing', 'All right Joey, be nice. So does he have a hump? A hump and a hairpiece?'], ['Phoebe Buffay', 'Wait, does he eat chalk?'], ['Phoebe Buffay', \"Just, 'cause, I don't want her to go through what I went through with Carl- oh!\"], ['Monica Geller', \"Okay, everybody relax. This is not even a date. It's just two people going out to dinner and- not having sex.\"], ['Chandler Bing', 'Sounds like a date to me.'], ['Chandler Bing', \"Alright, so I'm back in high school, I'm standing in the middle of the cafeteria, and I realize I am totally naked.\"], ['#ALL#', 'Oh, yeah. Had that dream.'], ['Chandler Bing', \"Then I look down, and I realize there's a phone... there.\"], ['Joey Tribbiani', 'Instead of...?'], ['Chandler Bing', \"That's right.\"], ['Joey Tribbiani', 'Never had that dream.'], ['Phoebe Buffay', 'No.'], ['Chandler Bing', \"All of a sudden, the phone starts to ring. Now I don't know what to do, everybody starts looking at me.\"], ['Monica Geller', \"And they weren't looking at you before?!\"], ['Chandler Bing', \"Finally, I figure I'd better answer it, and it turns out it's my mother, which is very-very weird, because- she never calls me!\"], ['Ross Geller', 'Hi.'], ['Joey Tribbiani', 'This guy says hello, I wanna kill myself.'], ['Monica Geller', 'Are you okay, sweetie?'], ['Ross Geller', 'I just feel like someone reached down my throat, grabbed my small intestine, pulled it out of my mouth and tied it around my neck...'], ['Chandler Bing', 'Cookie?'], ['Monica Geller', 'Carol moved her stuff out today.'], ['Joey Tribbiani', 'Ohh.'], ['Monica Geller', 'Let me get you some coffee.'], ['Ross Geller', 'Thanks.'], ['Phoebe Buffay', 'Ooh! Oh!'], ['Ross Geller', \"No, no don't! Stop cleansing my aura! No, just leave my aura alone, okay?\"], ['Phoebe Buffay', 'Fine! Be murky!'], ['Ross Geller', \"I'll be fine, alright? Really, everyone. I hope she'll be very happy.\"], ['Monica Geller', \"No you don't.\"], ['Ross Geller', \"No I don't, to hell with her, she left me!\"], ['Joey Tribbiani', 'And you never knew she was a lesbian...'], ['Ross Geller', \"No!! Okay?! Why does everyone keep fixating on that? She didn't know, how should I know?\"], ['Chandler Bing', 'Sometimes I wish I was a lesbian... Did I say that out loud?'], ['Ross Geller', 'I told mom and dad last night, they seemed to take it pretty well.'], ['Monica Geller', 'Oh really, so that hysterical phone call I got from a woman at sobbing 3:00 A.M., \"I\\'ll never have grandchildren, I\\'ll never have grandchildren.\" was what? A wrong number?'], ['Ross Geller', 'Sorry.'], ['Joey Tribbiani', \"Alright Ross, look. You're feeling a lot of pain right now. You're angry. You're hurting. Can I tell you what the answer is?\"], ['Joey Tribbiani', \"Strip joint! C'mon, you're single! Have some hormones!\"], ['Ross Geller', \"I don't want to be single, okay? I just... I just- I just wanna be married again!\"], ['Chandler Bing', 'And I just want a million dollars!'], ['Monica Geller', 'Rachel?!'], ['Rachel Green', \"Oh God Monica hi! Thank God! I just went to your building and you weren't there and then this guy with a big hammer said you might be here and you are, you are!\"], ['Waitress', 'Can I get you some coffee?'], ['Monica Geller', 'De-caff. Okay, everybody, this is Rachel, another Lincoln High survivor. This is everybody, this is Chandler, and Phoebe, and Joey, and- you remember my brother Ross?'], ['Rachel Green', 'Hi, sure!'], ['Ross Geller', 'Hi.'], ['Monica Geller', 'So you wanna tell us now, or are we waiting for four wet bridesmaids?'], ['Rachel Green', \"Oh God... well, it started about a half hour before the wedding. I was in the room where we were keeping all the presents, and I was looking at this gravy boat. This really gorgeous Lamauge gravy boat. When all of a sudden- Sweet 'n' Lo?- I realized that I was more turned on by this gravy boat than by Barry! And then I got really freaked out, and that's when it hit me: how much Barry looks like Mr. Potato Head. Y'know, I mean, I always knew looked familiar, but... Anyway, I just had to get out of there, and I started wondering 'Why am I doing this, and who am I doing this for?'. So anyway I just didn't know where to go, and I know that you and I have kinda drifted apart, but you're the only person I knew who lived here in the city.\"], ['Monica Geller', \"Who wasn't invited to the wedding.\"], ['Rachel Green', \"Ooh, I was kinda hoping that wouldn't be an issue...\"]], 'count': {'Total': 50, 'Ross Geller': 11, 'Rachel Green': 4, 'Monica Geller': 12, 'Chandler Bing': 10, 'Joey Tribbiani': 8, 'Phoebe Buffay': 5}}\n"
     ]
    }
   ],
   "source": []
  }
 ],
 "metadata": {
  "kernelspec": {
   "display_name": "vision",
   "language": "python",
   "name": "vision"
  },
  "language_info": {
   "codemirror_mode": {
    "name": "ipython",
    "version": 3
   },
   "file_extension": ".py",
   "mimetype": "text/x-python",
   "name": "python",
   "nbconvert_exporter": "python",
   "pygments_lexer": "ipython3",
   "version": "3.7.0"
  }
 },
 "nbformat": 4,
 "nbformat_minor": 4
}
